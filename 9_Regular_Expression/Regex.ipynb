{
 "cells": [
  {
   "cell_type": "markdown",
   "id": "aa4d84b3",
   "metadata": {},
   "source": [
    "# 1 The re module"
   ]
  },
  {
   "cell_type": "code",
   "execution_count": 1,
   "id": "503fea4d",
   "metadata": {},
   "outputs": [],
   "source": [
    "import re"
   ]
  },
  {
   "cell_type": "markdown",
   "id": "6a5c9037",
   "metadata": {},
   "source": [
    "## 1.1 re.search()"
   ]
  },
  {
   "cell_type": "code",
   "execution_count": 3,
   "id": "3a1b4c93",
   "metadata": {},
   "outputs": [],
   "source": [
    "text = \"\"\"Hello world.\n",
    "I love Python!!!!\n",
    "My first lucky number is 987-654-321\n",
    "My second lucky number is 876-543-210\n",
    "My third lucky number is 765-432-100\n",
    "My fourth lucky number is 123-456-123-123-123-456\n",
    "\"\"\""
   ]
  },
  {
   "cell_type": "code",
   "execution_count": 7,
   "id": "947309b3",
   "metadata": {},
   "outputs": [
    {
     "data": {
      "text/plain": [
       "<re.Match object; span=(56, 57), match='9'>"
      ]
     },
     "execution_count": 7,
     "metadata": {},
     "output_type": "execute_result"
    }
   ],
   "source": [
    "# return the first match\n",
    "\n",
    "re.search(r'\\d', text)"
   ]
  },
  {
   "cell_type": "code",
   "execution_count": 20,
   "id": "a0a205aa",
   "metadata": {},
   "outputs": [],
   "source": [
    "# flags\n",
    "\n",
    "re.search(r'^hello', text, flags=re.M)   # I means insensitive which ignored the uppercase\n",
    "                                         # M means multiline"
   ]
  },
  {
   "cell_type": "markdown",
   "id": "20cf8b64",
   "metadata": {},
   "source": [
    "# 2.re.findall()"
   ]
  },
  {
   "cell_type": "code",
   "execution_count": 23,
   "id": "a2f0784f",
   "metadata": {},
   "outputs": [
    {
     "data": {
      "text/plain": [
       "['9',\n",
       " '8',\n",
       " '7',\n",
       " '6',\n",
       " '5',\n",
       " '4',\n",
       " '3',\n",
       " '2',\n",
       " '1',\n",
       " '8',\n",
       " '7',\n",
       " '6',\n",
       " '5',\n",
       " '4',\n",
       " '3',\n",
       " '2',\n",
       " '1',\n",
       " '0',\n",
       " '7',\n",
       " '6',\n",
       " '5',\n",
       " '4',\n",
       " '3',\n",
       " '2',\n",
       " '1',\n",
       " '0',\n",
       " '0',\n",
       " '1',\n",
       " '2',\n",
       " '3',\n",
       " '4',\n",
       " '5',\n",
       " '6',\n",
       " '1',\n",
       " '2',\n",
       " '3',\n",
       " '1',\n",
       " '2',\n",
       " '3',\n",
       " '1',\n",
       " '2',\n",
       " '3',\n",
       " '4',\n",
       " '5',\n",
       " '6']"
      ]
     },
     "execution_count": 23,
     "metadata": {},
     "output_type": "execute_result"
    }
   ],
   "source": [
    "# return all the matches\n",
    "\n",
    "re.findall(r'\\d', text)"
   ]
  },
  {
   "cell_type": "markdown",
   "id": "a843b81f",
   "metadata": {},
   "source": [
    "# 3 Exercises"
   ]
  },
  {
   "cell_type": "code",
   "execution_count": 31,
   "id": "3dc766aa",
   "metadata": {},
   "outputs": [],
   "source": [
    "# Match only punctuation\n",
    "\n",
    "text = \"\"\"Hello world.\n",
    "I love Python!!!!\n",
    "My first lucky number is 987-654-321\n",
    "My second lucky number is 876-543-210\n",
    "My third lucky number is 765-432-100\n",
    "My fourth lucky number is 123-456-123-123-123-456\n",
    "\"\"\""
   ]
  },
  {
   "cell_type": "code",
   "execution_count": 54,
   "id": "2bc49f5a",
   "metadata": {},
   "outputs": [
    {
     "data": {
      "text/plain": [
       "['.',\n",
       " '!',\n",
       " '!',\n",
       " '!',\n",
       " '!',\n",
       " '-',\n",
       " '-',\n",
       " '-',\n",
       " '-',\n",
       " '-',\n",
       " '-',\n",
       " '-',\n",
       " '-',\n",
       " '-',\n",
       " '-',\n",
       " '-']"
      ]
     },
     "execution_count": 54,
     "metadata": {},
     "output_type": "execute_result"
    }
   ],
   "source": [
    "re.findall(r'[^\\w\\s]', text, flags=re.M)"
   ]
  },
  {
   "cell_type": "code",
   "execution_count": 57,
   "id": "14c88f04",
   "metadata": {},
   "outputs": [],
   "source": [
    "# Match right date format (MM/DD/YYYY)\n",
    "text = '''\n",
    "    13-04-2021\n",
    "    2021-13-04\n",
    "    2021-04-13\n",
    "'''"
   ]
  },
  {
   "cell_type": "code",
   "execution_count": 58,
   "id": "9b087f25",
   "metadata": {},
   "outputs": [
    {
     "data": {
      "text/plain": [
       "['13-04-2021']"
      ]
     },
     "execution_count": 58,
     "metadata": {},
     "output_type": "execute_result"
    }
   ],
   "source": [
    "re.findall(r'(\\d{2}-\\d{2}-\\d{4})', text, flags=re.M)"
   ]
  },
  {
   "cell_type": "code",
   "execution_count": 69,
   "id": "57540cae",
   "metadata": {},
   "outputs": [],
   "source": [
    "# Match right username format (4-14 characters and only letters or digits)\n",
    "\n",
    "text ='''\n",
    "    username10\n",
    "    abc\n",
    "    10\n",
    "    udfasdfasdjf\n",
    "'''"
   ]
  },
  {
   "cell_type": "code",
   "execution_count": 70,
   "id": "9855aef0",
   "metadata": {},
   "outputs": [
    {
     "data": {
      "text/plain": [
       "['username10', 'udfasdfasdjf']"
      ]
     },
     "execution_count": 70,
     "metadata": {},
     "output_type": "execute_result"
    }
   ],
   "source": [
    "re.findall(r'[a-zA-Z0-9]{4,14}', text)"
   ]
  },
  {
   "cell_type": "code",
   "execution_count": null,
   "id": "a41239c6",
   "metadata": {},
   "outputs": [],
   "source": [
    "\n"
   ]
  }
 ],
 "metadata": {
  "kernelspec": {
   "display_name": "Python 3 (ipykernel)",
   "language": "python",
   "name": "python3"
  },
  "language_info": {
   "codemirror_mode": {
    "name": "ipython",
    "version": 3
   },
   "file_extension": ".py",
   "mimetype": "text/x-python",
   "name": "python",
   "nbconvert_exporter": "python",
   "pygments_lexer": "ipython3",
   "version": "3.11.5"
  }
 },
 "nbformat": 4,
 "nbformat_minor": 5
}
