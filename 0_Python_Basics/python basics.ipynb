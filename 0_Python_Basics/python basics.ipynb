{
 "cells": [
  {
   "cell_type": "code",
   "execution_count": 4,
   "id": "7a00ea41",
   "metadata": {},
   "outputs": [],
   "source": [
    "import pandas as pd"
   ]
  },
  {
   "cell_type": "code",
   "execution_count": 5,
   "id": "6cf5d537",
   "metadata": {},
   "outputs": [
    {
     "data": {
      "text/html": [
       "<div>\n",
       "<style scoped>\n",
       "    .dataframe tbody tr th:only-of-type {\n",
       "        vertical-align: middle;\n",
       "    }\n",
       "\n",
       "    .dataframe tbody tr th {\n",
       "        vertical-align: top;\n",
       "    }\n",
       "\n",
       "    .dataframe thead th {\n",
       "        text-align: right;\n",
       "    }\n",
       "</style>\n",
       "<table border=\"1\" class=\"dataframe\">\n",
       "  <thead>\n",
       "    <tr style=\"text-align: right;\">\n",
       "      <th></th>\n",
       "      <th>States</th>\n",
       "      <th>Population</th>\n",
       "    </tr>\n",
       "  </thead>\n",
       "  <tbody>\n",
       "    <tr>\n",
       "      <th>0</th>\n",
       "      <td>Tamil Nadu</td>\n",
       "      <td>23234222</td>\n",
       "    </tr>\n",
       "    <tr>\n",
       "      <th>1</th>\n",
       "      <td>Kerala</td>\n",
       "      <td>45686764</td>\n",
       "    </tr>\n",
       "    <tr>\n",
       "      <th>2</th>\n",
       "      <td>Goa</td>\n",
       "      <td>3445664</td>\n",
       "    </tr>\n",
       "    <tr>\n",
       "      <th>3</th>\n",
       "      <td>Manipur</td>\n",
       "      <td>33434554</td>\n",
       "    </tr>\n",
       "  </tbody>\n",
       "</table>\n",
       "</div>"
      ],
      "text/plain": [
       "       States  Population\n",
       "0  Tamil Nadu    23234222\n",
       "1      Kerala    45686764\n",
       "2         Goa     3445664\n",
       "3     Manipur    33434554"
      ]
     },
     "execution_count": 5,
     "metadata": {},
     "output_type": "execute_result"
    }
   ],
   "source": [
    "states = ['Tamil Nadu', 'Kerala', 'Goa', 'Manipur']\n",
    "population = [23234222, 45686764, 3445664, 33434554]\n",
    "dict_state = {'States':states, 'Population': population}\n",
    "df = pd.DataFrame(dict_state)\n",
    "df"
   ]
  },
  {
   "cell_type": "markdown",
   "id": "927dc34f",
   "metadata": {},
   "source": [
    "# 1. Python Basics"
   ]
  },
  {
   "cell_type": "markdown",
   "id": "f9819d67",
   "metadata": {},
   "source": [
    "## 1.1. Strings methods"
   ]
  },
  {
   "cell_type": "code",
   "execution_count": 6,
   "id": "186581d3",
   "metadata": {},
   "outputs": [
    {
     "data": {
      "text/plain": [
       "int"
      ]
     },
     "execution_count": 6,
     "metadata": {},
     "output_type": "execute_result"
    }
   ],
   "source": [
    "type(123)"
   ]
  },
  {
   "cell_type": "code",
   "execution_count": 7,
   "id": "899b2510",
   "metadata": {},
   "outputs": [
    {
     "data": {
      "text/plain": [
       "'HELLO WORLD'"
      ]
     },
     "execution_count": 7,
     "metadata": {},
     "output_type": "execute_result"
    }
   ],
   "source": [
    "\"Hello world\".upper()"
   ]
  },
  {
   "cell_type": "code",
   "execution_count": 8,
   "id": "5341d076",
   "metadata": {},
   "outputs": [
    {
     "data": {
      "text/plain": [
       "'hello world'"
      ]
     },
     "execution_count": 8,
     "metadata": {},
     "output_type": "execute_result"
    }
   ],
   "source": [
    "\"Hello world\".lower()"
   ]
  },
  {
   "cell_type": "code",
   "execution_count": 9,
   "id": "b8c365ba",
   "metadata": {},
   "outputs": [
    {
     "data": {
      "text/plain": [
       "'Hello world'"
      ]
     },
     "execution_count": 9,
     "metadata": {},
     "output_type": "execute_result"
    }
   ],
   "source": [
    "\"hello world\".capitalize()"
   ]
  },
  {
   "cell_type": "code",
   "execution_count": 10,
   "id": "618fce54",
   "metadata": {},
   "outputs": [
    {
     "data": {
      "text/plain": [
       "'Hello World'"
      ]
     },
     "execution_count": 10,
     "metadata": {},
     "output_type": "execute_result"
    }
   ],
   "source": [
    "\"hello world\".title()"
   ]
  },
  {
   "cell_type": "code",
   "execution_count": 11,
   "id": "9edabb34",
   "metadata": {},
   "outputs": [
    {
     "name": "stdout",
     "output_type": "stream",
     "text": [
      "hello world HELLO WORLD Hello world Hello World\n"
     ]
    }
   ],
   "source": [
    "print(\"Hello world\".lower(), \"Hello world\".upper(), \"hello world\".capitalize(), \"hello world\".title())"
   ]
  },
  {
   "cell_type": "code",
   "execution_count": 12,
   "id": "11bfc7c4",
   "metadata": {},
   "outputs": [
    {
     "data": {
      "text/plain": [
       "3"
      ]
     },
     "execution_count": 12,
     "metadata": {},
     "output_type": "execute_result"
    }
   ],
   "source": [
    "\"Hello world\".count(\"l\")"
   ]
  },
  {
   "cell_type": "code",
   "execution_count": 13,
   "id": "97536860",
   "metadata": {},
   "outputs": [
    {
     "data": {
      "text/plain": [
       "'HeLLo worLd'"
      ]
     },
     "execution_count": 13,
     "metadata": {},
     "output_type": "execute_result"
    }
   ],
   "source": [
    "\"Hello world\".replace(\"l\", \"L\")"
   ]
  },
  {
   "cell_type": "markdown",
   "id": "6e766072",
   "metadata": {},
   "source": [
    "## 1.2 Variables\n"
   ]
  },
  {
   "cell_type": "code",
   "execution_count": 14,
   "id": "d4b78b8c",
   "metadata": {},
   "outputs": [
    {
     "data": {
      "text/plain": [
       "\"Hello world! It's a wonderful day.\""
      ]
     },
     "execution_count": 14,
     "metadata": {},
     "output_type": "execute_result"
    }
   ],
   "source": [
    "msg_1 = \"Hello world!\"\n",
    "msg_2 = \"It's a wonderful day.\"\n",
    "f'{msg_1} {msg_2}'"
   ]
  },
  {
   "cell_type": "markdown",
   "id": "e022f96f",
   "metadata": {},
   "source": [
    "## 1.3 List"
   ]
  },
  {
   "cell_type": "code",
   "execution_count": 15,
   "id": "a96a4159",
   "metadata": {},
   "outputs": [],
   "source": [
    "countries = ['US', 'India', 'Japan', 'China', 'Brazil']"
   ]
  },
  {
   "cell_type": "code",
   "execution_count": 16,
   "id": "bdfc9aff",
   "metadata": {},
   "outputs": [
    {
     "data": {
      "text/plain": [
       "['US', 'India', 'Japan', 'China', 'Brazil']"
      ]
     },
     "execution_count": 16,
     "metadata": {},
     "output_type": "execute_result"
    }
   ],
   "source": [
    "countries"
   ]
  },
  {
   "cell_type": "code",
   "execution_count": 17,
   "id": "1906df5f",
   "metadata": {},
   "outputs": [
    {
     "data": {
      "text/plain": [
       "'Brazil'"
      ]
     },
     "execution_count": 17,
     "metadata": {},
     "output_type": "execute_result"
    }
   ],
   "source": [
    "countries[0]\n",
    "countries[-1]"
   ]
  },
  {
   "cell_type": "code",
   "execution_count": 18,
   "id": "24b58413",
   "metadata": {},
   "outputs": [
    {
     "data": {
      "text/plain": [
       "['US', 'India']"
      ]
     },
     "execution_count": 18,
     "metadata": {},
     "output_type": "execute_result"
    }
   ],
   "source": [
    "countries[0:2]"
   ]
  },
  {
   "cell_type": "code",
   "execution_count": 19,
   "id": "cc3f316b",
   "metadata": {},
   "outputs": [],
   "source": [
    "countries.append('Argentina')"
   ]
  },
  {
   "cell_type": "code",
   "execution_count": 20,
   "id": "9c792cf5",
   "metadata": {},
   "outputs": [
    {
     "data": {
      "text/plain": [
       "['US', 'India', 'Japan', 'China', 'Brazil', 'Argentina']"
      ]
     },
     "execution_count": 20,
     "metadata": {},
     "output_type": "execute_result"
    }
   ],
   "source": [
    "countries"
   ]
  },
  {
   "cell_type": "code",
   "execution_count": 21,
   "id": "3aed8ac5",
   "metadata": {},
   "outputs": [],
   "source": [
    "countries.insert(1, 'Uganda')"
   ]
  },
  {
   "cell_type": "code",
   "execution_count": 22,
   "id": "ab0fb089",
   "metadata": {},
   "outputs": [
    {
     "data": {
      "text/plain": [
       "['US', 'Uganda', 'India', 'Japan', 'China', 'Brazil', 'Argentina']"
      ]
     },
     "execution_count": 22,
     "metadata": {},
     "output_type": "execute_result"
    }
   ],
   "source": [
    "countries"
   ]
  },
  {
   "cell_type": "code",
   "execution_count": 23,
   "id": "324922fc",
   "metadata": {},
   "outputs": [
    {
     "data": {
      "text/plain": [
       "['US',\n",
       " 'Uganda',\n",
       " 'India',\n",
       " 'Japan',\n",
       " 'China',\n",
       " 'Brazil',\n",
       " 'Argentina',\n",
       " 'UK',\n",
       " 'Italy',\n",
       " 'Spain',\n",
       " 'Germany',\n",
       " 'Austria',\n",
       " 'France',\n",
       " 'Hungary',\n",
       " 'Poland']"
      ]
     },
     "execution_count": 23,
     "metadata": {},
     "output_type": "execute_result"
    }
   ],
   "source": [
    "eu_countries = [\"UK\", \"Italy\", \"Spain\", \"Germany\", \"Austria\", \"France\", \"Hungary\", \"Poland\"]\n",
    "\n",
    "countries + eu_countries"
   ]
  },
  {
   "cell_type": "code",
   "execution_count": 24,
   "id": "413d9eae",
   "metadata": {},
   "outputs": [
    {
     "data": {
      "text/plain": [
       "[['US', 'Uganda', 'India', 'Japan', 'China', 'Brazil', 'Argentina'],\n",
       " ['UK', 'Italy', 'Spain', 'Germany', 'Austria', 'France', 'Hungary', 'Poland']]"
      ]
     },
     "execution_count": 24,
     "metadata": {},
     "output_type": "execute_result"
    }
   ],
   "source": [
    "nested_list = [countries, eu_countries]\n",
    "nested_list"
   ]
  },
  {
   "cell_type": "code",
   "execution_count": 25,
   "id": "cfb45a6c",
   "metadata": {},
   "outputs": [
    {
     "data": {
      "text/plain": [
       "['Uganda', 'India', 'Japan', 'China', 'Brazil', 'Argentina']"
      ]
     },
     "execution_count": 25,
     "metadata": {},
     "output_type": "execute_result"
    }
   ],
   "source": [
    "#remove\n",
    "\n",
    "countries.remove(\"US\")\n",
    "countries"
   ]
  },
  {
   "cell_type": "code",
   "execution_count": 26,
   "id": "80fb3067",
   "metadata": {},
   "outputs": [
    {
     "data": {
      "text/plain": [
       "['Uganda', 'India', 'Japan', 'China', 'Brazil', 'Argentina']"
      ]
     },
     "execution_count": 26,
     "metadata": {},
     "output_type": "execute_result"
    }
   ],
   "source": [
    "nested_list.pop([0][0])"
   ]
  },
  {
   "cell_type": "markdown",
   "id": "636632a1",
   "metadata": {},
   "source": [
    "## 1.4 Sorting"
   ]
  },
  {
   "cell_type": "code",
   "execution_count": 33,
   "id": "4b88e348",
   "metadata": {},
   "outputs": [],
   "source": [
    "numbers = [4,3,56,78,5,3,2,5,8,13,4,67,7,5,4,3,2,4,5,7,8,2,3,4,5,6,7,7,4,3,2,1,3,3,23,5456,6,5,34,34,56,7,7,5467,347,3]"
   ]
  },
  {
   "cell_type": "code",
   "execution_count": 34,
   "id": "912e6bd1",
   "metadata": {},
   "outputs": [],
   "source": [
    "numbers.sort(reverse = True) "
   ]
  },
  {
   "cell_type": "code",
   "execution_count": 35,
   "id": "4d1e94f5",
   "metadata": {},
   "outputs": [
    {
     "name": "stdout",
     "output_type": "stream",
     "text": [
      "[5467, 5456, 347, 78, 67, 56, 56, 34, 34, 23, 13, 8, 8, 7, 7, 7, 7, 7, 7, 6, 6, 5, 5, 5, 5, 5, 5, 4, 4, 4, 4, 4, 4, 3, 3, 3, 3, 3, 3, 3, 3, 2, 2, 2, 2, 1]"
     ]
    }
   ],
   "source": [
    "print(numbers, end ='')"
   ]
  },
  {
   "cell_type": "code",
   "execution_count": 36,
   "id": "01d39c7a",
   "metadata": {},
   "outputs": [],
   "source": [
    "numbers.sort(reverse = False) "
   ]
  },
  {
   "cell_type": "code",
   "execution_count": 38,
   "id": "9805a59f",
   "metadata": {},
   "outputs": [
    {
     "name": "stdout",
     "output_type": "stream",
     "text": [
      "[1, 2, 2, 2, 2, 3, 3, 3, 3, 3, 3, 3, 3, 4, 4, 4, 4, 4, 4, 5, 5, 5, 5, 5, 5, 6, 6, 7, 7, 7, 7, 7, 7, 8, 8, 13, 23, 34, 34, 56, 56, 67, 78, 347, 5456, 5467]"
     ]
    }
   ],
   "source": [
    "print(numbers, end = '')"
   ]
  },
  {
   "cell_type": "markdown",
   "id": "fbdefeb0",
   "metadata": {},
   "source": [
    "## 1.5 Update"
   ]
  },
  {
   "cell_type": "code",
   "execution_count": 39,
   "id": "c48d9fc7",
   "metadata": {},
   "outputs": [],
   "source": [
    "numbers[0] = 1000"
   ]
  },
  {
   "cell_type": "code",
   "execution_count": 40,
   "id": "0e75264e",
   "metadata": {},
   "outputs": [
    {
     "data": {
      "text/plain": [
       "[1000,\n",
       " 2,\n",
       " 2,\n",
       " 2,\n",
       " 2,\n",
       " 3,\n",
       " 3,\n",
       " 3,\n",
       " 3,\n",
       " 3,\n",
       " 3,\n",
       " 3,\n",
       " 3,\n",
       " 4,\n",
       " 4,\n",
       " 4,\n",
       " 4,\n",
       " 4,\n",
       " 4,\n",
       " 5,\n",
       " 5,\n",
       " 5,\n",
       " 5,\n",
       " 5,\n",
       " 5,\n",
       " 6,\n",
       " 6,\n",
       " 7,\n",
       " 7,\n",
       " 7,\n",
       " 7,\n",
       " 7,\n",
       " 7,\n",
       " 8,\n",
       " 8,\n",
       " 13,\n",
       " 23,\n",
       " 34,\n",
       " 34,\n",
       " 56,\n",
       " 56,\n",
       " 67,\n",
       " 78,\n",
       " 347,\n",
       " 5456,\n",
       " 5467]"
      ]
     },
     "execution_count": 40,
     "metadata": {},
     "output_type": "execute_result"
    }
   ],
   "source": [
    "numbers"
   ]
  },
  {
   "cell_type": "markdown",
   "id": "820d4945",
   "metadata": {},
   "source": [
    "## 1.6 Dictionary"
   ]
  },
  {
   "cell_type": "code",
   "execution_count": 41,
   "id": "d48ac451",
   "metadata": {},
   "outputs": [],
   "source": [
    "my_dict = {'name': 'Kcpk', 'age': 23}"
   ]
  },
  {
   "cell_type": "code",
   "execution_count": 42,
   "id": "27f4a034",
   "metadata": {},
   "outputs": [
    {
     "data": {
      "text/plain": [
       "{'name': 'Kcpk', 'age': 23}"
      ]
     },
     "execution_count": 42,
     "metadata": {},
     "output_type": "execute_result"
    }
   ],
   "source": [
    "my_dict"
   ]
  },
  {
   "cell_type": "code",
   "execution_count": 43,
   "id": "ede9ea35",
   "metadata": {},
   "outputs": [
    {
     "data": {
      "text/plain": [
       "dict_values(['Kcpk', 23])"
      ]
     },
     "execution_count": 43,
     "metadata": {},
     "output_type": "execute_result"
    }
   ],
   "source": [
    "my_dict.values()"
   ]
  },
  {
   "cell_type": "code",
   "execution_count": 44,
   "id": "c513d64c",
   "metadata": {},
   "outputs": [
    {
     "data": {
      "text/plain": [
       "dict_keys(['name', 'age'])"
      ]
     },
     "execution_count": 44,
     "metadata": {},
     "output_type": "execute_result"
    }
   ],
   "source": [
    "my_dict.keys()"
   ]
  },
  {
   "cell_type": "code",
   "execution_count": 45,
   "id": "8f1b8516",
   "metadata": {},
   "outputs": [
    {
     "data": {
      "text/plain": [
       "dict_items([('name', 'Kcpk'), ('age', 23)])"
      ]
     },
     "execution_count": 45,
     "metadata": {},
     "output_type": "execute_result"
    }
   ],
   "source": [
    "my_dict.items()"
   ]
  },
  {
   "cell_type": "code",
   "execution_count": 47,
   "id": "31a2bac5",
   "metadata": {},
   "outputs": [],
   "source": [
    "my_dict['height'] = 1.65"
   ]
  },
  {
   "cell_type": "code",
   "execution_count": 48,
   "id": "f41bae6a",
   "metadata": {},
   "outputs": [
    {
     "data": {
      "text/plain": [
       "{'name': 'Kcpk', 'age': 23, 'height': 1.65}"
      ]
     },
     "execution_count": 48,
     "metadata": {},
     "output_type": "execute_result"
    }
   ],
   "source": [
    "my_dict"
   ]
  },
  {
   "cell_type": "code",
   "execution_count": 49,
   "id": "8465b248",
   "metadata": {},
   "outputs": [],
   "source": [
    "my_dict.update({'height': 1.67})"
   ]
  },
  {
   "cell_type": "code",
   "execution_count": 50,
   "id": "84d6625d",
   "metadata": {},
   "outputs": [
    {
     "data": {
      "text/plain": [
       "{'name': 'Kcpk', 'age': 23, 'height': 1.67}"
      ]
     },
     "execution_count": 50,
     "metadata": {},
     "output_type": "execute_result"
    }
   ],
   "source": [
    "my_dict"
   ]
  },
  {
   "cell_type": "code",
   "execution_count": 51,
   "id": "538b80ea",
   "metadata": {},
   "outputs": [],
   "source": [
    "new_dict = my_dict.copy()"
   ]
  },
  {
   "cell_type": "code",
   "execution_count": 52,
   "id": "238ed35a",
   "metadata": {},
   "outputs": [
    {
     "data": {
      "text/plain": [
       "{'name': 'Kcpk', 'age': 23, 'height': 1.67}"
      ]
     },
     "execution_count": 52,
     "metadata": {},
     "output_type": "execute_result"
    }
   ],
   "source": [
    "new_dict"
   ]
  },
  {
   "cell_type": "code",
   "execution_count": 53,
   "id": "eb419947",
   "metadata": {},
   "outputs": [
    {
     "data": {
      "text/plain": [
       "'Kcpk'"
      ]
     },
     "execution_count": 53,
     "metadata": {},
     "output_type": "execute_result"
    }
   ],
   "source": [
    "my_dict.pop('name')"
   ]
  },
  {
   "cell_type": "code",
   "execution_count": 54,
   "id": "42c139cc",
   "metadata": {},
   "outputs": [
    {
     "data": {
      "text/plain": [
       "{'age': 23, 'height': 1.67}"
      ]
     },
     "execution_count": 54,
     "metadata": {},
     "output_type": "execute_result"
    }
   ],
   "source": [
    "my_dict"
   ]
  },
  {
   "cell_type": "code",
   "execution_count": 55,
   "id": "7bd8f44d",
   "metadata": {},
   "outputs": [],
   "source": [
    "del my_dict['height']"
   ]
  },
  {
   "cell_type": "code",
   "execution_count": 56,
   "id": "700eae5f",
   "metadata": {},
   "outputs": [
    {
     "data": {
      "text/plain": [
       "{'age': 23}"
      ]
     },
     "execution_count": 56,
     "metadata": {},
     "output_type": "execute_result"
    }
   ],
   "source": [
    "my_dict"
   ]
  },
  {
   "cell_type": "code",
   "execution_count": 57,
   "id": "5285fb6c",
   "metadata": {},
   "outputs": [],
   "source": [
    "my_dict.clear()"
   ]
  },
  {
   "cell_type": "code",
   "execution_count": 58,
   "id": "adebd11d",
   "metadata": {},
   "outputs": [
    {
     "data": {
      "text/plain": [
       "{}"
      ]
     },
     "execution_count": 58,
     "metadata": {},
     "output_type": "execute_result"
    }
   ],
   "source": [
    "my_dict"
   ]
  },
  {
   "cell_type": "markdown",
   "id": "e2723669",
   "metadata": {},
   "source": [
    "## for loop"
   ]
  },
  {
   "cell_type": "code",
   "execution_count": 59,
   "id": "27778c78",
   "metadata": {},
   "outputs": [
    {
     "name": "stdout",
     "output_type": "stream",
     "text": [
      "0 Uganda\n",
      "1 India\n",
      "2 Japan\n",
      "3 China\n",
      "4 Brazil\n",
      "5 Argentina\n"
     ]
    }
   ],
   "source": [
    "for i, country in enumerate(countries):\n",
    "    print(i, country)"
   ]
  },
  {
   "cell_type": "code",
   "execution_count": 60,
   "id": "86b99c15",
   "metadata": {},
   "outputs": [
    {
     "name": "stdout",
     "output_type": "stream",
     "text": [
      "name Kcpk\n",
      "age 23\n",
      "height 1.67\n"
     ]
    }
   ],
   "source": [
    "for key, value in new_dict.items():\n",
    "    print(key, value)"
   ]
  },
  {
   "cell_type": "markdown",
   "id": "fdaf78ab",
   "metadata": {},
   "source": [
    "##  Built-in functions"
   ]
  },
  {
   "cell_type": "code",
   "execution_count": 66,
   "id": "6dc4e200",
   "metadata": {},
   "outputs": [
    {
     "data": {
      "text/plain": [
       "5467"
      ]
     },
     "execution_count": 66,
     "metadata": {},
     "output_type": "execute_result"
    }
   ],
   "source": [
    "max(numbers)"
   ]
  },
  {
   "cell_type": "code",
   "execution_count": 67,
   "id": "ff2c25c8",
   "metadata": {},
   "outputs": [
    {
     "data": {
      "text/plain": [
       "2"
      ]
     },
     "execution_count": 67,
     "metadata": {},
     "output_type": "execute_result"
    }
   ],
   "source": [
    "min(numbers)"
   ]
  },
  {
   "cell_type": "code",
   "execution_count": 65,
   "id": "72ea4290",
   "metadata": {},
   "outputs": [
    {
     "data": {
      "text/plain": [
       "11"
      ]
     },
     "execution_count": 65,
     "metadata": {},
     "output_type": "execute_result"
    }
   ],
   "source": [
    "len(\"Hello world\")"
   ]
  },
  {
   "cell_type": "markdown",
   "id": "e76d1884",
   "metadata": {},
   "source": [
    "## Modules"
   ]
  },
  {
   "cell_type": "markdown",
   "id": "4e8e95d7",
   "metadata": {},
   "source": [
    "### OS Modules"
   ]
  },
  {
   "cell_type": "code",
   "execution_count": 72,
   "id": "e89f6679",
   "metadata": {},
   "outputs": [],
   "source": [
    "import os"
   ]
  },
  {
   "cell_type": "code",
   "execution_count": 74,
   "id": "ce2fdbf9",
   "metadata": {},
   "outputs": [
    {
     "data": {
      "text/plain": [
       "'C:\\\\Users\\\\kcpra\\\\Python for Data Science'"
      ]
     },
     "execution_count": 74,
     "metadata": {},
     "output_type": "execute_result"
    }
   ],
   "source": [
    "os.getcwd() #get current directory"
   ]
  },
  {
   "cell_type": "code",
   "execution_count": 76,
   "id": "cd8a733d",
   "metadata": {},
   "outputs": [
    {
     "data": {
      "text/plain": [
       "['.ipynb_checkpoints', 'Untitled.ipynb']"
      ]
     },
     "execution_count": 76,
     "metadata": {},
     "output_type": "execute_result"
    }
   ],
   "source": [
    "os.listdir() #list directory"
   ]
  },
  {
   "cell_type": "code",
   "execution_count": 82,
   "id": "59ccb593",
   "metadata": {},
   "outputs": [],
   "source": [
    "os.makedirs(\"New Folders\")"
   ]
  },
  {
   "cell_type": "code",
   "execution_count": 83,
   "id": "449dbca0",
   "metadata": {},
   "outputs": [
    {
     "data": {
      "text/plain": [
       "['.ipynb_checkpoints', 'New Folders', 'Untitled.ipynb']"
      ]
     },
     "execution_count": 83,
     "metadata": {},
     "output_type": "execute_result"
    }
   ],
   "source": [
    "os.listdir()"
   ]
  },
  {
   "cell_type": "code",
   "execution_count": 84,
   "id": "b261f6c7",
   "metadata": {},
   "outputs": [],
   "source": [
    "os.removedirs('New Folders')"
   ]
  },
  {
   "cell_type": "code",
   "execution_count": null,
   "id": "346e4069",
   "metadata": {},
   "outputs": [],
   "source": []
  }
 ],
 "metadata": {
  "kernelspec": {
   "display_name": "Python 3 (ipykernel)",
   "language": "python",
   "name": "python3"
  },
  "language_info": {
   "codemirror_mode": {
    "name": "ipython",
    "version": 3
   },
   "file_extension": ".py",
   "mimetype": "text/x-python",
   "name": "python",
   "nbconvert_exporter": "python",
   "pygments_lexer": "ipython3",
   "version": "3.11.5"
  }
 },
 "nbformat": 4,
 "nbformat_minor": 5
}
